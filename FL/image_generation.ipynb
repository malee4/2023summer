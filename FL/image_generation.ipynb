{
 "cells": [
  {
   "cell_type": "code",
   "execution_count": 1,
   "metadata": {},
   "outputs": [],
   "source": [
    "# import packages\n",
    "import numpy as np\n",
    "import random\n",
    "\n",
    "import plotly.express as px\n",
    "import pandas as pd\n",
    "\n",
    "import seaborn as sns\n",
    "import matplotlib.pyplot as plt\n",
    "from IPython.display import display, clear_output\n",
    "\n",
    "import os"
   ]
  },
  {
   "cell_type": "code",
   "execution_count": 2,
   "metadata": {},
   "outputs": [],
   "source": [
    "# set constants for background generation\n",
    "L = 0.05 # length\n",
    "H = 0.05 # height\n",
    "dx = 0.0025\n",
    "dy = 0.0025\n",
    "tmax = 10\n",
    "dt = 0.01 # change in time\n",
    "epsilon = 0.0001\n",
    "\n",
    "# set constants for anomalies\n",
    "dI = 0.3 # intensity difference\n",
    "\n",
    "save_path = \"./samples\"\n"
   ]
  },
  {
   "cell_type": "code",
   "execution_count": 7,
   "metadata": {},
   "outputs": [
    {
     "name": "stdout",
     "output_type": "stream",
     "text": [
      "(1,)\n"
     ]
    }
   ],
   "source": [
    "# what is the Fo number?\n",
    "NN = 1\n",
    "\n",
    "# generate the random noise values\n",
    "domainalp = np.array([])\n",
    "for i in range(NN):\n",
    "    domainalp = np.append(domainalp, 0.5e-5 + 1e-5 * random.random())\n",
    "\n",
    "print(domainalp.shape)\n",
    "\n",
    "CENTERT = [] # NN x 1\n",
    "AVET = [] # NN x 1\n",
    "\n",
    "# list of simulated data matrices\n",
    "SimulateData = [] # NN x 10\n",
    "SimulateDataNoNoise = []\n"
   ]
  },
  {
   "cell_type": "code",
   "execution_count": 12,
   "metadata": {},
   "outputs": [],
   "source": [
    "# create anomalies\n",
    "# Y = M + A + E\n",
    "x_dim = (int) (L / dx + 1)\n",
    "y_dim = (int) (H / dx + 1)\n",
    "\n",
    "# currently at no error\n",
    "A = np.zeros((x_dim, y_dim))\n",
    "\n",
    "# make it a set of anomalies directly along a diagonal axis\n",
    "for i in range(x_dim):\n",
    "        A[i][i] = 1e-5\n"
   ]
  },
  {
   "cell_type": "code",
   "execution_count": 13,
   "metadata": {},
   "outputs": [
    {
     "data": {
      "image/png": "[encoded data removed]",
      "text/plain": [
       "<Figure size 640x480 with 1 Axes>"
      ]
     },
     "metadata": {},
     "output_type": "display_data"
    }
   ],
   "source": [
    "for iN in range(NN):\n",
    "    directory = str(iN)\n",
    "    directory_path = os.path.join(save_path, directory)\n",
    "\n",
    "\n",
    "    # if (not os.path.exists(directory_path)):\n",
    "        # os.makedirs(directory_path)\n",
    "\n",
    "    # generate the noise values\n",
    "    r_x = domainalp[iN] * dt/(pow(dx, 2))\n",
    "    r_y = domainalp[iN] * dt/(pow(dy, 2))\n",
    "    fo = r_x + r_y\n",
    "\n",
    "    # what does this condition mean? no convergence?\n",
    "    if fo > 0.5000:\n",
    "        raise Exception(\"Numerical stability requires Fo <= 1/2\")\n",
    "        exit()\n",
    "\n",
    "    # we create a matrix of values\n",
    "    nx = (int) (L / dx + 1)\n",
    "    ny = (int) (H / dx + 1)\n",
    "\n",
    "    grid = np.empty((nx, ny))\n",
    "\n",
    "    # find center\n",
    "    ic = (int) ((nx - 1) / 2) # no plus one, index starts at 0\n",
    "    jc = (int) ((ny - 1) / 2)\n",
    "\n",
    "    # set boundary conditions\n",
    "    T = np.zeros((nx, ny))\n",
    "\n",
    "    # column 0\n",
    "    T[:,0] = 1\n",
    "\n",
    "    # column ny - 1\n",
    "    T[:, ny-1] = 1\n",
    "\n",
    "    # row 0\n",
    "    T[0, :] = 1\n",
    "\n",
    "    # row nx - 1\n",
    "    T[nx - 1, :] = 1\n",
    "\n",
    "    # I had difficulty telling what this step does?? are they not 0 and 1?)\n",
    "    Tmin = np.min(np.min(T)) \n",
    "    Tmax = np.max(np.max(T)) \n",
    "    \n",
    "    # iterative component\n",
    "    n = 0 # index\n",
    "\n",
    "    # nmax = (int) (tmax/dt)\n",
    "    nmax = 1000\n",
    "\n",
    "    CenterT = [] # center temperature\n",
    "    AveT = []\n",
    "    SaveIndex = 0\n",
    "    iSave = 0\n",
    "    bSaveImage = 0\n",
    "\n",
    "    fig = plt.figure()\n",
    "\n",
    "    while n < nmax:\n",
    "            file_path = directory_path + \"/\" + str(n)\n",
    "\n",
    "            n = n + 1\n",
    "            SaveIndex = SaveIndex + 1\n",
    "\n",
    "            T_n = T\n",
    "            T_anomalies = T\n",
    "\n",
    "            # define temperature values\n",
    "            for j in range(1, nx - 1):\n",
    "                for i in range(1, nx - 1):\n",
    "                     T[j][i]= T_n[j][i] + r_x*(T_n[j][i+1]-2*T_n[j][i]+T_n[j][i-1]) + r_y*(T_n[j+1][i]-2*T_n[j][i]+T_n[j-1][i])\n",
    "                     T_anomalies = T[j][i] + A[i][j] * dI\n",
    "\n",
    "            a = T.shape\n",
    "            NoiseT = T + 0.1 * np.random.rand(a[0], a[1])\n",
    "            # NoiseT_anomalies = T_anomalies + 0.1 * np.random.rand(a[0], a[1])\n",
    "\n",
    "            # plt.imshow(NoiseT_anomalies, cmap='hot', interpolation='nearest')\n",
    "\n",
    "            plt.imshow(NoiseT, cmap='hot', interpolation='nearest')\n",
    "        \n",
    "            # plt.axis('off')\n",
    "            # plt.savefig(file_path, bbox_inches='tight', pad_inches=0)\n",
    "\n",
    "            # df = pd.DataFrame(NoiseT)\n",
    "\n",
    "    # plt.figure()\n",
    "    # heatmap = sns.heatmap(df.corr(), vmin = 0.0, vmax = 1.0, xticklabels = False, yticklabels = False, cbar = True)\n",
    "\n",
    "    # fig = heatmap.get_figure()\n",
    "    # fig.savefig(\"sample_plot2.png\")\n",
    "   \n",
    "    \n",
    "            \n",
    "\n",
    "    \n",
    "    "
   ]
  },
  {
   "cell_type": "code",
   "execution_count": null,
   "metadata": {},
   "outputs": [],
   "source": []
  }
 ],
 "metadata": {
  "kernelspec": {
   "display_name": "cs",
   "language": "python",
   "name": "python3"
  },
  "language_info": {
   "codemirror_mode": {
    "name": "ipython",
    "version": 3
   },
   "file_extension": ".py",
   "mimetype": "text/x-python",
   "name": "python",
   "nbconvert_exporter": "python",
   "pygments_lexer": "ipython3",
   "version": "3.8.16"
  },
  "orig_nbformat": 4
 },
 "nbformat": 4,
 "nbformat_minor": 2
}
