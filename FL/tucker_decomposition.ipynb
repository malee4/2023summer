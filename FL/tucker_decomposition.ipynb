{
 "cells": [
  {
   "attachments": {},
   "cell_type": "markdown",
   "metadata": {},
   "source": [
    "## Tucker Decomposition\n",
    "References: \n",
    "- Tensor Decompositions and Applications by Tamara G. Kolda and Brett W. Bader, SIAM Review, September 2009, Vol. 51, No. 3 (September 2009), pp. 455-500\n",
    "- Understanding the Tucker decomposition, and compressing tensor-valued data (with R code) by Alexej Gossmann, https://www.alexejgossmann.com/tensor_decomposition_tucker/, April 5, 2017\n",
    "- Higher-Order Singular Value Decomposition: Theory and an Application by Göran Bergqvist and Erik G. Larsson, https://www.diva-portal.org/smash/get/diva2:316227/FULLTEXT01.pdf, 2009\n",
    "- Singular Value Decomposition for High-dimensional High-order Data by Anru Zhang, https://csml.princeton.edu/sites/g/files/toruqf911/files/resource-links/zhang2018princeton.pdf, May 14, 2018"
   ]
  },
  {
   "cell_type": "code",
   "execution_count": null,
   "metadata": {},
   "outputs": [],
   "source": [
    "# generate the data\n"
   ]
  },
  {
   "cell_type": "code",
   "execution_count": null,
   "metadata": {},
   "outputs": [],
   "source": [
    "def HOSVD(T):\n",
    "    # A <- empty array\n",
    "    # for n = 1 to N:\n",
    "        # # calculate single value decomposition (SVD) for nth layer of T\n",
    "        # U, S, Vh = np.linalg.svd(T[n])\n",
    "        # A[n] <- U\n",
    "\n",
    "    # # calculate G\n",
    "    # G <- T x1 A[1]^T x2 ... xn A[N]^T\n",
    "    return # G, A"
   ]
  }
 ],
 "metadata": {
  "language_info": {
   "name": "python"
  },
  "orig_nbformat": 4
 },
 "nbformat": 4,
 "nbformat_minor": 2
}
