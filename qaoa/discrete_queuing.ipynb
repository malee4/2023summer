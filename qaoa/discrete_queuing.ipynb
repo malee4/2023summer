{
 "cells": [
  {
   "cell_type": "code",
   "execution_count": 1,
   "metadata": {},
   "outputs": [],
   "source": [
    "# import packages\n",
    "import numpy as np\n",
    "import random "
   ]
  },
  {
   "cell_type": "code",
   "execution_count": 2,
   "metadata": {},
   "outputs": [],
   "source": [
    "def is_valid(clients):\n",
    "    for client in clients:\n",
    "        if len(clients.get(client)[0]) != len(clients.get(client)[1]):\n",
    "            return False\n",
    "    return True\n",
    "\n",
    "def compile_list(clients):\n",
    "    if not is_valid(clients):\n",
    "        return None\n",
    "    \n",
    "    out = []\n",
    "    for client in clients:\n",
    "        resources = clients.get(client)[0]\n",
    "        times = clients.get(client)[1]\n",
    "        \n",
    "        for i in range(len(resources)):\n",
    "            out.append((resources[i], times[i], client))\n",
    "    print(out)\n",
    "    return out"
   ]
  },
  {
   "cell_type": "code",
   "execution_count": 3,
   "metadata": {},
   "outputs": [
    {
     "name": "stdout",
     "output_type": "stream",
     "text": [
      "[(0.6, 10, 'Alice'), (0.3, 50, 'Bob'), (0.1, 20, 'Bob'), (0.8, 90, 'Carl'), (0.2, 40, 'Carl'), (0.4, 10, 'Carl')]\n"
     ]
    }
   ],
   "source": [
    "# we define the constraints of each of our resources\n",
    "# TODO: randomize this\n",
    "RESOURCE_CAPACITIES = np.array([80, 120, 200, 100])\n",
    "\n",
    "client_names = [\"Alice\", \"Bob\", \"Carl\"] # store names of clients\n",
    "client_projects_and_times = {\n",
    "    \"Alice\": (np.array([.6]), np.array([10])),\n",
    "    \"Bob\": (np.array([0.3, 0.1]), np.array([50, 20])),\n",
    "    \"Carl\": (np.array([0.8, 0.2, 0.4]), np.array([90, 40, 10])),\n",
    "}\n",
    "\n",
    "client_job_list = compile_list(client_projects_and_times)\n",
    "\n",
    "# randomize the order in which these jobs are run\n",
    "scrambled_client_job_list = random.shuffle(client_job_list)"
   ]
  },
  {
   "cell_type": "code",
   "execution_count": 4,
   "metadata": {},
   "outputs": [],
   "source": [
    "def order_by_resources(jobs):\n",
    "    resource_list = []\n",
    "    for job in jobs:\n",
    "        resource_list.append(job[0])\n",
    "\n",
    "    # sort the resource list\n",
    "    sorted_resource_indices = np.argsort(resource_list)\n",
    "\n",
    "    out = []\n",
    "\n",
    "    for i in sorted_resource_indices:\n",
    "        out.append(jobs[i])\n",
    "\n",
    "    return out\n",
    "\n",
    "def order_by_time(jobs):\n",
    "    time_list = [] \n",
    "    for job in jobs:\n",
    "        time_list.append(job[1])\n",
    "\n",
    "    sorted_time_indices = np.argsort(time_list)\n",
    "\n",
    "    out = []\n",
    "\n",
    "    for i in sorted_time_indices:\n",
    "        out.append(jobs[i])\n",
    "\n",
    "    return out"
   ]
  },
  {
   "cell_type": "code",
   "execution_count": 6,
   "metadata": {},
   "outputs": [
    {
     "name": "stdout",
     "output_type": "stream",
     "text": [
      "[200 120 100  80]\n"
     ]
    }
   ],
   "source": [
    "# greedy algorithm that orders based on resources ONLY\n",
    "def discrete_list_resources_only_greedy(jobs):\n",
    "    jobs = order_by_resources(jobs)\n",
    "    # organize resource capacities by resource sizes\n",
    "    sorted_resource_capacities = np.sort(RESOURCE_CAPACITIES)[::-1]\n",
    "    sorted_resource_capacities_indices = np.argsort(RESOURCE_CAPACITIES)[::-1]\n",
    "\n",
    "    out = []\n",
    "\n",
    "    # print(sorted_resource_capacities)\n",
    "\n",
    "    curr_resources = 0\n",
    "    start_time = 0\n",
    "    last_time = 0\n",
    "\n",
    "    for job in jobs:\n",
    "\n",
    "        if job[0] > sorted_resource_capacities[0]:\n",
    "            print(\"Resources not sufficient to process: \" + job)\n",
    "            continue\n",
    "\n",
    "        \n",
    "        \n",
    "\n",
    "        out.append(job, start_time, end_time)\n",
    "\n",
    "        return\n",
    "    return\n",
    "\n",
    "# discrete_list_resources_only_greedy(client_job_list)"
   ]
  }
 ],
 "metadata": {
  "kernelspec": {
   "display_name": "cs",
   "language": "python",
   "name": "python3"
  },
  "language_info": {
   "codemirror_mode": {
    "name": "ipython",
    "version": 3
   },
   "file_extension": ".py",
   "mimetype": "text/x-python",
   "name": "python",
   "nbconvert_exporter": "python",
   "pygments_lexer": "ipython3",
   "version": "3.8.16"
  },
  "orig_nbformat": 4
 },
 "nbformat": 4,
 "nbformat_minor": 2
}
