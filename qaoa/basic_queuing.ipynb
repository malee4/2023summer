{
 "cells": [
  {
   "cell_type": "code",
   "execution_count": 2,
   "metadata": {},
   "outputs": [],
   "source": [
    "# import packages\n",
    "import numpy as np\n",
    "import random"
   ]
  },
  {
   "cell_type": "code",
   "execution_count": 3,
   "metadata": {},
   "outputs": [],
   "source": [
    "# fair share queueing\n",
    "client_names = [\"Alice\", \"Bob\", \"Carl\"] # store names of clients\n",
    "client_projects = {\n",
    "    \"Alice\": np.array([]),\n",
    "    \"Bob\": np.array([0.3, 0.1]),\n",
    "    \"Carl\": np.array([0.8, 0.2, 0.4]),\n",
    "}\n",
    "shares_used = np.array([0.2, 0.5, 0.3]) # store amount of shares used by client"
   ]
  },
  {
   "cell_type": "code",
   "execution_count": 4,
   "metadata": {},
   "outputs": [],
   "source": [
    "# fair share queueing\n",
    "def single_fair_share_queuing(client_names, client_projects, shares_used):\n",
    "    if len(shares_used) == 0:\n",
    "        return None, None\n",
    "    \n",
    "    sorted_shares_used = np.argsort(shares_used)\n",
    "    print(sorted_shares_used)\n",
    "\n",
    "    for i in range(len(sorted_shares_used)):\n",
    "        # get the client with the next lowest use time\n",
    "        client_name = client_names[sorted_shares_used[i]]\n",
    "        # get the list of jobs for this client\n",
    "        client_jobs = client_projects.get(client_name)\n",
    "        \n",
    "        # make sure client has jobs requested\n",
    "        if len(client_jobs) == 0: \n",
    "            if i == len(sorted_shares_used) - 1:\n",
    "                return None, None\n",
    "            else:\n",
    "                continue\n",
    "        else:\n",
    "            return client_name, client_jobs[np.argsort(client_jobs)[0]]"
   ]
  },
  {
   "cell_type": "code",
   "execution_count": 5,
   "metadata": {},
   "outputs": [
    {
     "name": "stdout",
     "output_type": "stream",
     "text": [
      "[0 2 1]\n",
      "Carl\n",
      "0.2\n"
     ]
    }
   ],
   "source": [
    "# fair share queueing\n",
    "client_name, job = single_fair_share_queuing(client_names, client_projects, shares_used)\n",
    "\n",
    "print(client_name)\n",
    "print(job)"
   ]
  },
  {
   "attachments": {},
   "cell_type": "markdown",
   "metadata": {},
   "source": [
    "# Multiple Resources\n",
    "We now seek to expand a fair share queuing system to multiple resources. \n",
    "\n",
    "We consider two cases: one, where the resources are pooled and, two, where the resources are broken into sections with upper limits. "
   ]
  },
  {
   "attachments": {},
   "cell_type": "markdown",
   "metadata": {},
   "source": [
    "## Continuous Resources\n",
    "For the purposes of illustration (and my sanity) we consider what plausible queuing algorithms for some set of continuous resources may look like. In reality, a single quantum processor may at most run one job at a time. "
   ]
  },
  {
   "cell_type": "code",
   "execution_count": 6,
   "metadata": {},
   "outputs": [],
   "source": [
    "# pooled resources\n",
    "# TODO: randomize this\n",
    "client_names = [\"Alice\", \"Bob\", \"Carl\"] # store names of clients\n",
    "client_projects_and_times = {\n",
    "    \"Alice\": (np.array([.6]), np.array([10])),\n",
    "    \"Bob\": (np.array([0.3, 0.1]), np.array([50, 20])),\n",
    "    \"Carl\": (np.array([0.8, 0.2, 0.4]), np.array([90, 40, 10])),\n",
    "}\n",
    "RESOURCE_LIMIT = 1.0\n",
    "# shares_used = np.array([0.2, 0.5, 0.3])"
   ]
  },
  {
   "cell_type": "code",
   "execution_count": 7,
   "metadata": {},
   "outputs": [],
   "source": [
    "def is_valid(clients):\n",
    "    for client in clients:\n",
    "        if len(clients.get(client)[0]) != len(clients.get(client)[1]):\n",
    "            return False\n",
    "    return True\n",
    "\n",
    "def compile_list(clients):\n",
    "    if not is_valid(clients):\n",
    "        return None\n",
    "    \n",
    "    out = []\n",
    "    for client in clients:\n",
    "        resources = clients.get(client)[0]\n",
    "        times = clients.get(client)[1]\n",
    "        \n",
    "        for i in range(len(resources)):\n",
    "            out.append((resources[i], times[i], client))\n",
    "    print(out)\n",
    "    return out"
   ]
  },
  {
   "cell_type": "code",
   "execution_count": 8,
   "metadata": {},
   "outputs": [
    {
     "name": "stdout",
     "output_type": "stream",
     "text": [
      "[(0.6, 10, 'Alice'), (0.3, 50, 'Bob'), (0.1, 20, 'Bob'), (0.8, 90, 'Carl'), (0.2, 40, 'Carl'), (0.4, 10, 'Carl')]\n",
      "[(0.2, 40, 'Carl'), (0.4, 10, 'Carl'), (0.6, 10, 'Alice'), (0.8, 90, 'Carl'), (0.3, 50, 'Bob'), (0.1, 20, 'Bob')]\n",
      "None\n"
     ]
    }
   ],
   "source": [
    "client_job_list = compile_list(client_projects_and_times)\n",
    "\n",
    "# randomize the order in which these jobs are run\n",
    "scrambled_client_job_list = random.shuffle(client_job_list)\n",
    "\n",
    "print(client_job_list)\n",
    "print(scrambled_client_job_list)"
   ]
  },
  {
   "cell_type": "code",
   "execution_count": 9,
   "metadata": {},
   "outputs": [],
   "source": [
    "def pack_schedule(jobs):\n",
    "    out = [] # stores (job, start_time, end_time)\n",
    "\n",
    "    curr_resources = 0\n",
    "    start_time = 0\n",
    "    last_time = 0\n",
    "    for job in jobs:\n",
    "        if job[0] > RESOURCE_LIMIT:\n",
    "            print(\"No valid placement for job: \" + job)\n",
    "            continue\n",
    "        \n",
    "        if job[0] + curr_resources > RESOURCE_LIMIT: \n",
    "            start_time = last_time\n",
    "            last_time = start_time + job[1]\n",
    "            end_time = last_time\n",
    "            curr_resources = job[0]\n",
    "        else:\n",
    "            if start_time + job[1] > last_time:\n",
    "                last_time = start_time + job[1]\n",
    "            end_time = start_time + job[1]\n",
    "            curr_resources += job[0]\n",
    "\n",
    "        out.append(job, start_time, end_time)\n",
    "        \n",
    "    return out"
   ]
  },
  {
   "cell_type": "code",
   "execution_count": 10,
   "metadata": {},
   "outputs": [],
   "source": [
    "# list queuing with no fairness metric\n",
    "# First Come First Serve (FIFO)\n",
    "def multiple_continuous_pack_queuing_FIFO(jobs):\n",
    "    out = pack_schedule(jobs)\n",
    "    return out"
   ]
  },
  {
   "cell_type": "code",
   "execution_count": 11,
   "metadata": {},
   "outputs": [],
   "source": [
    "def order_by_time(jobs):\n",
    "    time_list = [] \n",
    "    for job in jobs:\n",
    "        time_list.append(job[1])\n",
    "\n",
    "    sorted_time_indices = np.argsort(time_list)\n",
    "\n",
    "    out = []\n",
    "\n",
    "    for i in sorted_time_indices:\n",
    "        out.append(jobs[i])\n",
    "\n",
    "    return out\n",
    "\n",
    "# Least Time First (LTF)\n",
    "def multiple_continuous_pack_queuing_LTF(jobs):\n",
    "    # reorder jobs in accordance to time\n",
    "    jobs = order_by_time(jobs)\n",
    "    out = pack_schedule(jobs)\n",
    "            \n",
    "    return out"
   ]
  },
  {
   "cell_type": "code",
   "execution_count": 12,
   "metadata": {},
   "outputs": [],
   "source": [
    "def order_by_resources(jobs):\n",
    "    resource_list = []\n",
    "    for job in jobs:\n",
    "        resource_list.append(job[0])\n",
    "\n",
    "    # sort the resource list\n",
    "    sorted_resource_indices = np.argsort(resource_list)\n",
    "\n",
    "    out = []\n",
    "\n",
    "    for i in sorted_resource_indices:\n",
    "        out.append(jobs[i])\n",
    "\n",
    "    return out\n",
    "\n",
    "# Least Resource First (LRF)\n",
    "def multiple_continuous_pack_queuing_LRF(jobs):\n",
    "    # reorder jobs in accordance to time\n",
    "    jobs = order_by_resources(jobs)\n",
    "    out = pack_schedule(jobs)\n",
    "            \n",
    "    return out"
   ]
  }
 ],
 "metadata": {
  "kernelspec": {
   "display_name": "cs",
   "language": "python",
   "name": "python3"
  },
  "language_info": {
   "codemirror_mode": {
    "name": "ipython",
    "version": 3
   },
   "file_extension": ".py",
   "mimetype": "text/x-python",
   "name": "python",
   "nbconvert_exporter": "python",
   "pygments_lexer": "ipython3",
   "version": "3.8.16"
  },
  "orig_nbformat": 4
 },
 "nbformat": 4,
 "nbformat_minor": 2
}
